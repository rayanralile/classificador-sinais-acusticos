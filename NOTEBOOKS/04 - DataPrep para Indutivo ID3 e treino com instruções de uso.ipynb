{
 "cells": [
  {
   "cell_type": "markdown",
   "id": "edd9bda4",
   "metadata": {},
   "source": [
    "# DataPrep para Indutivo ID3 e treino com instruções de uso\n",
    "## Grupo 2 - Trabalho de Conclusão de Curso\n",
    "### - Bruno Uchôa Brandão e Silva - 12412440\n",
    "### - Rayan Luz Ralile - 12412502\n",
    "\n",
    "===============================================================================\n",
    "\n",
    "### Passo 1: carregamento das bibliotecas usadas no programa"
   ]
  },
  {
   "cell_type": "code",
   "execution_count": 8,
   "id": "8b02fe4d",
   "metadata": {},
   "outputs": [],
   "source": [
    "import numpy as np\n",
    "import scipy.signal\n",
    "import librosa\n",
    "from sklearn.preprocessing import MinMaxScaler\n",
    "import pickle\n",
    "import csv\n",
    "import random"
   ]
  },
  {
   "cell_type": "markdown",
   "id": "ee157831",
   "metadata": {},
   "source": [
    "### Passo 2: construção das funções auxiliares"
   ]
  },
  {
   "cell_type": "code",
   "execution_count": 9,
   "id": "5542a694",
   "metadata": {},
   "outputs": [],
   "source": [
    "# Funções de salvar e carregar objetos diversos - otimizar os passos de tratamento do dataset e treino\n",
    "def salva_objeto(obj, file_path = \"data.pickle\"):\n",
    "    with open(file_path, 'wb') as file:\n",
    "        pickle.dump(obj, file)\n",
    "        \n",
    "def carrega_objeto(file_path = \"data.pickle\"):\n",
    "    with open(file_path, 'rb') as file:\n",
    "        obj = pickle.load(file)\n",
    "    return obj"
   ]
  },
  {
   "cell_type": "markdown",
   "id": "03b20638",
   "metadata": {},
   "source": [
    "### Passo 3: construção da função que lê os arquivos de áudio e aplica as técnicas descritas no trabalho para a transformação de domínio para o tempo-frequência e construção dos bins de frequência."
   ]
  },
  {
   "cell_type": "code",
   "execution_count": 10,
   "id": "11156a52",
   "metadata": {},
   "outputs": [],
   "source": [
    "# Lê os arquivos de áudio e processa a técnica PSD\n",
    "def compute_psd(file_path, center_time):\n",
    "    audio_data, original_sample_rate = librosa.load(file_path, sr=None)\n",
    "    # original_sample_rate -> 48000Hz\n",
    "    # Decima os dados de áudio\n",
    "    audio_data = librosa.resample(audio_data, orig_sr=original_sample_rate, target_sr=4800)\n",
    "    sample_rate = 4800\n",
    "    \n",
    "    \n",
    "    # Computar o início e fim em torno do tempo de PMA em máx de 10 minutos\n",
    "    start_sample = max(0, int((center_time - 5 * 60) * sample_rate))\n",
    "    end_sample = min(len(audio_data), int((center_time + 5 * 60) * sample_rate))\n",
    "\n",
    "    # Verifica se o tempo está completo\n",
    "    if end_sample - start_sample != 10 * 60 * sample_rate:\n",
    "        raise ValueError(\"Verificar argumento center_time - não efetivou intervalo por inteiro\")\n",
    "\n",
    "\n",
    "    audio_data = audio_data[start_sample:end_sample]\n",
    "    # Reshape a matriz para as 600 amostras de 1 segundo cada\n",
    "    chunks = audio_data.reshape(30, 96000)\n",
    "\n",
    "    # Computar a densidade espectral de frequência usando o método Welch do SciPy\n",
    "    psd_list = []\n",
    "    for chunk in chunks:\n",
    "        freqs, psd = scipy.signal.welch(chunk, sample_rate, nperseg=480, noverlap=240)\n",
    "        # Seleciona as baixas frequências, de 10Hz a 2000Hz\n",
    "        psd = psd[(freqs >= 10) & (freqs <= 2000)]\n",
    "        psd_list.append(psd)\n",
    "    return np.array(psd_list)"
   ]
  },
  {
   "cell_type": "markdown",
   "id": "60edd9a4",
   "metadata": {},
   "source": [
    "### Passo 4: Labels curtas para facilitar a visualização da árvore indutiva"
   ]
  },
  {
   "cell_type": "code",
   "execution_count": 11,
   "id": "70b4889e",
   "metadata": {},
   "outputs": [],
   "source": [
    "arrayClasses = [\"Pequeno Porte\", \"Pequeno Porte\", \"Pequeno Porte\", \"Pequeno Porte\", \"Grande Porte\", \"Grande Porte\",\"Grande Porte\",\"Grande Porte\",\"Pequeno Porte\",\"Pequeno Porte\",\"Grande Porte\",\"Grande Porte\",\"Pequeno Porte\",\"Pequeno Porte\",\"Pequeno Porte\",\"Grande Porte\",\"Pequeno Porte\",\"Grande Porte\",\"Grande Porte\",\"Pequeno Porte\"]"
   ]
  },
  {
   "cell_type": "markdown",
   "id": "8be11124",
   "metadata": {},
   "source": [
    "### Passo 5: desenvolver o dataset e labels do indutivo, ainda 'cru', ou seja, sem passar pelas divisões solicitadas do MLC++ e sem a randomização de ordem das linhas"
   ]
  },
  {
   "cell_type": "code",
   "execution_count": 12,
   "id": "f8c7b250",
   "metadata": {},
   "outputs": [],
   "source": [
    "arquivos_wav = []\n",
    "\n",
    "folderETAS = '../ETAS_WAV/'\n",
    "\n",
    "for i in range(1, 20):\n",
    "    nome_arquivo = folderETAS + str(i) + \".wav\"\n",
    "    arquivos_wav.append(nome_arquivo)"
   ]
  },
  {
   "cell_type": "code",
   "execution_count": 13,
   "id": "fe5108f0",
   "metadata": {},
   "outputs": [],
   "source": [
    "# agora a lista dos tempos de centro em segundos\n",
    "arrayTempos = [1840, 1680, 1710, 1700, 1700, 1840, 1840, 1800, 1800, 1800, 1800, 1800, 1700, 1800, 1860,\n",
    "              1800, 1800, 1800, 1800]"
   ]
  },
  {
   "cell_type": "code",
   "execution_count": 14,
   "id": "dbdbb830",
   "metadata": {},
   "outputs": [],
   "source": [
    "# Listas de Dataset e label\n",
    "dataset = []\n",
    "labels = []\n",
    "contador = 0\n",
    "# Loop através dos arquivos de áudio\n",
    "for audio_file_path, audio_class in zip(arquivos_wav, arrayClasses):\n",
    "    psd = compute_psd(audio_file_path, arrayTempos[contador])\n",
    "    dataset.extend(psd)\n",
    "    labels.extend([audio_class]*30)  # Repete a classificação para as 600 amostras - etiquetagem\n",
    "    contador += 1\n",
    "\n",
    "# Converte para numpy\n",
    "dataset = np.array(dataset)\n",
    "labels = np.array(labels)\n",
    "\n",
    "# Normaliza dataset com o método Min-Max\n",
    "scaler = MinMaxScaler()\n",
    "dataset = scaler.fit_transform(dataset)"
   ]
  },
  {
   "cell_type": "code",
   "execution_count": 7,
   "id": "098f2c31",
   "metadata": {},
   "outputs": [],
   "source": [
    "#salva_objeto(dataset,\"datasetIndutivoCru2.pickle\")\n",
    "#salva_objeto(labels,\"labels_indutivo2.pickle\")\n",
    "\n",
    "#dataset = carrega_objeto(\"datasetIndutivoCru2.pickle\")\n",
    "#labels = carrega_objeto(\"labels_indutivo2.pickle\")"
   ]
  },
  {
   "cell_type": "markdown",
   "id": "13bb6e60",
   "metadata": {},
   "source": [
    "### Para facilitar a visualização da árvore, multiplico as linhas por um fator constante elevado"
   ]
  },
  {
   "cell_type": "code",
   "execution_count": 8,
   "id": "c9e90519",
   "metadata": {},
   "outputs": [],
   "source": [
    "dataset = dataset * 100000000"
   ]
  },
  {
   "cell_type": "markdown",
   "id": "caaef439",
   "metadata": {},
   "source": [
    "### Passo 6: arranjo dos dados para salvar em arquivo .csv"
   ]
  },
  {
   "cell_type": "code",
   "execution_count": 9,
   "id": "06884568",
   "metadata": {},
   "outputs": [],
   "source": [
    "datasetFinal = np.vstack((dataset.T, labels.T)).T"
   ]
  },
  {
   "cell_type": "code",
   "execution_count": 10,
   "id": "e45fde00",
   "metadata": {},
   "outputs": [],
   "source": [
    "file_path = 'dataraw.csv'\n",
    "\n",
    "with open(file_path, 'w', newline='', encoding='utf-8') as csvfile:\n",
    "    csv_writer = csv.writer(csvfile)\n",
    "    csv_writer.writerows(datasetFinal)"
   ]
  },
  {
   "cell_type": "code",
   "execution_count": 12,
   "id": "8820f4c9",
   "metadata": {},
   "outputs": [
    {
     "data": {
      "text/plain": [
       "570"
      ]
     },
     "execution_count": 12,
     "metadata": {},
     "output_type": "execute_result"
    }
   ],
   "source": [
    "len(datasetFinal)"
   ]
  },
  {
   "cell_type": "markdown",
   "id": "d99ecaea",
   "metadata": {},
   "source": [
    "### Passo 7: reordenar aleatoriamente as linhas do arquivo csv e gerar arquivo final."
   ]
  },
  {
   "cell_type": "code",
   "execution_count": 13,
   "id": "4e66edc7",
   "metadata": {},
   "outputs": [],
   "source": [
    "def shuffle_csv(input_filename, output_filename, delimiter=','):\n",
    "    \"\"\"\n",
    "    Embaralha as linhas de um arquivo CSV e grava em um novo arquivo.\n",
    "    \n",
    "    :param input_filename: Nome do arquivo CSV de entrada\n",
    "    :param output_filename: Nome do arquivo CSV de saída\n",
    "    :param delimiter: Delimitador usado no arquivo CSV. O padrão é ','\n",
    "    \"\"\"\n",
    "    \n",
    "    # Ler o conteúdo do arquivo CSV em uma lista\n",
    "    with open(input_filename, 'r') as csvfile:\n",
    "        reader = csv.reader(csvfile, delimiter=delimiter)\n",
    "        rows = list(reader)\n",
    "        \n",
    "    # Embaralhar as linhas\n",
    "    random.shuffle(rows)\n",
    "    \n",
    "    # Escrever as linhas embaralhadas em um novo arquivo CSV\n",
    "    with open(output_filename, 'w', newline='') as csvfile:\n",
    "        writer = csv.writer(csvfile, delimiter=delimiter)\n",
    "        writer.writerows(rows)\n",
    "\n",
    "# Aplicando a função de embaralhamento\n",
    "shuffle_csv('dataraw.csv', 'datafinal.csv')"
   ]
  },
  {
   "cell_type": "markdown",
   "id": "71c44035",
   "metadata": {},
   "source": [
    "### Passo 8: gerando o arquivo ships.names do MLC++ ID3"
   ]
  },
  {
   "cell_type": "code",
   "execution_count": 2,
   "id": "2cc36444",
   "metadata": {},
   "outputs": [],
   "source": [
    "def generate_frequency_file(filename):\n",
    "    with open(filename, 'w') as file:\n",
    "        file.write(\"Grande Porte, Pequeno Porte\\t\\t| classes\\n\\n\")\n",
    "        for freq in range(10, 2001, 10):\n",
    "            file.write(f\"{freq}Hz:\\t\\tcontinuous.\\n\")\n",
    "\n",
    "generate_frequency_file(\"ships.names\")"
   ]
  },
  {
   "cell_type": "markdown",
   "id": "f54cee9a",
   "metadata": {},
   "source": [
    "### Passo 9:\n",
    "- Utilizando o arquivo datafinal.csv, fazer a separação manual dos arquivos para uso do MLC++, a saber: ships.all, ships.test e ships.data:\n",
    "- ships.all - todos os dados\n",
    "- ships.data - 2/3 das linhas de datafinal.csv - pegue sequencialmente pois as linhas já foram espalhadas\n",
    "- ships.test - 1/3 restante\n",
    "\n",
    "#### Por fim, abra o cmd do DOS (ou o cmd via wine no linux) e execute os comandos a seguir (onde se enxerga o executável do MLC++):\n",
    "\n",
    "wine cmd (ou só cmd no caso do Windows)\n",
    "\n",
    "set DATAFILE=ships\n",
    "\n",
    "set INDUCER=ID3\n",
    "\n",
    "set ID3_UNKNOWN_EDGES=no\n",
    "\n",
    "set DISP_CONFUSION_MAT=ascii\n",
    "\n",
    "set DISPLAY_STRUCT=dotty\n",
    "\n",
    "dot -Tps -Gpage=\"8.5,11\" -Gmargin=\"0,0\" Inducer.dot > ships.ps\n",
    "\n",
    "#### Use o evince para visualizar o arquivo .ps (disponível em todas as plataformas). "
   ]
  },
  {
   "cell_type": "markdown",
   "id": "508f23e1",
   "metadata": {},
   "source": [
    "### Passo 10: O arquivo inducer.dot é o arquivo a ser usado pelo leitor de .dot desenvolvido neste trabalho para a classificação dos portes de navios. Caso queira usar criptografia (diferentemente das redes neurais, é possível observar a lógica de classificação na árvore resultante, o que pode comprometer material sigiloso caso seja empregado - não é o caso deste TCC mas pode ser o caso de obras derivadas no futuro)"
   ]
  },
  {
   "cell_type": "markdown",
   "id": "6360442a",
   "metadata": {},
   "source": [
    "### == Módulo de criptografia =="
   ]
  },
  {
   "cell_type": "code",
   "execution_count": null,
   "id": "4dac3b0b",
   "metadata": {},
   "outputs": [],
   "source": [
    "from cryptography.fernet import Fernet\n",
    "\n",
    "def save_key_to_file(key, filename):\n",
    "    with open(filename, 'wb') as key_file:\n",
    "        key_file.write(key)\n",
    "        \n",
    "def load_key_from_file(filename):\n",
    "    with open(filename, 'rb') as key_file:\n",
    "        return key_file.read()\n",
    "    \n",
    "### USE UMA ÚNICA VEZ - GERAÇÃO DA CHAVE DE CRIPTOGRAFIA\n",
    "if False:\n",
    "    # Gera a chave de criptografia\n",
    "    key = Fernet.generate_key()\n",
    "    save_key_to_file(key, 'tcc.key')\n",
    "    \n",
    "# Função que encripta entrada de arquivo (filepath)\n",
    "def encrypt_file(input_file_name, output_file_name, key):\n",
    "    cipher = Fernet(key)\n",
    "\n",
    "    with open(input_file_name, 'rb') as file:\n",
    "        file_data = file.read()\n",
    "\n",
    "    encrypted_data = cipher.encrypt(file_data)\n",
    "\n",
    "    with open(output_file_name, 'wb') as file:\n",
    "        file.write(encrypted_data)\n",
    "\n",
    "# Função que decifra o arquivo. Uso para carregar em dot_content e ser usado na árvore\n",
    "#def decrypt_file(input_file_name, output_file_name, key):\n",
    "def decrypt_file(input_file_name, key):\n",
    "    cipher = Fernet(key)\n",
    "\n",
    "    with open(input_file_name, 'rb') as file:\n",
    "        encrypted_data = file.read()\n",
    "\n",
    "    decrypted_data = cipher.decrypt(encrypted_data)\n",
    "    # Abaixo se eu desejar escrever o arquivo decifrado\n",
    "    #with open(output_file_name, 'wb') as file:\n",
    "    #    file.write(decrypted_data)\n",
    "    return decrypted_data\n",
    "\n",
    "encrypt_file('Inducer.dot', 'indutivo.rbf', key)"
   ]
  },
  {
   "cell_type": "markdown",
   "id": "7831f4bc",
   "metadata": {},
   "source": [
    "### Realizando a separação do dataset dentro dos conjuntos do ID3 e executando os comandos em linha de terminal e obtendo o arquivo Inducer.dot (ou Inducer.rbf caso esteja com o módulo de criptografia ativado), estará tudo pronto para o uso do classificador indutivo, cujo código está presente no próximo notebook."
   ]
  },
  {
   "cell_type": "code",
   "execution_count": null,
   "id": "b22d7947",
   "metadata": {},
   "outputs": [],
   "source": []
  }
 ],
 "metadata": {
  "kernelspec": {
   "display_name": "Python 3 (ipykernel)",
   "language": "python",
   "name": "python3"
  },
  "language_info": {
   "codemirror_mode": {
    "name": "ipython",
    "version": 3
   },
   "file_extension": ".py",
   "mimetype": "text/x-python",
   "name": "python",
   "nbconvert_exporter": "python",
   "pygments_lexer": "ipython3",
   "version": "3.11.4"
  }
 },
 "nbformat": 4,
 "nbformat_minor": 5
}
