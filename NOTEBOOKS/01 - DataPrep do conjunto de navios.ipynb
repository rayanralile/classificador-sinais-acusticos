{
 "cells": [
  {
   "cell_type": "markdown",
   "id": "46ce99f2",
   "metadata": {},
   "source": [
    "# DataPrep do conjunto de navios\n",
    "## Grupo 2 - Trabalho de Conclusão de Curso\n",
    "### - Bruno Uchôa Brandão e Silva - 12412440\n",
    "### - Rayan Luz Ralile - 12412502\n",
    "\n",
    "===============================================================================\n",
    "\n",
    "### Passo 1: carregamento das bibliotecas usadas no programa"
   ]
  },
  {
   "cell_type": "code",
   "execution_count": 1,
   "id": "ca1590eb",
   "metadata": {},
   "outputs": [],
   "source": [
    "import numpy as np\n",
    "import scipy.signal\n",
    "import librosa\n",
    "from sklearn.preprocessing import MinMaxScaler\n",
    "import warnings\n",
    "warnings.filterwarnings('ignore')\n",
    "import pickle"
   ]
  },
  {
   "cell_type": "markdown",
   "id": "770ef50e",
   "metadata": {},
   "source": [
    "### Passo 2: construção das funções auxiliares"
   ]
  },
  {
   "cell_type": "code",
   "execution_count": 2,
   "id": "5fea25b2",
   "metadata": {},
   "outputs": [],
   "source": [
    "# Funções de salvar e carregar objetos diversos - otimizar os passos de tratamento do dataset e treino\n",
    "def salva_objeto(obj, file_path = \"data.pickle\"):\n",
    "    with open(file_path, 'wb') as file:\n",
    "        pickle.dump(obj, file)\n",
    "        \n",
    "def carrega_objeto(file_path = \"data.pickle\"):\n",
    "    with open(file_path, 'rb') as file:\n",
    "        obj = pickle.load(file)\n",
    "    return obj"
   ]
  },
  {
   "cell_type": "markdown",
   "id": "14ff6116",
   "metadata": {},
   "source": [
    "### Passo 3: construção da função que lê os arquivos de áudio e aplica as técnicas descritas no trabalho para a transformação de domínio para o tempo-frequência e construção dos bins de frequência."
   ]
  },
  {
   "cell_type": "code",
   "execution_count": 3,
   "id": "e82590a3",
   "metadata": {},
   "outputs": [],
   "source": [
    "# Lê os arquivos de áudio e processa a técnica PSD\n",
    "def compute_psd(file_path, center_time):\n",
    "    audio_data, original_sample_rate = librosa.load(file_path, sr=None)\n",
    "    # original_sample_rate -> 48000Hz\n",
    "    # Decima os dados de áudio\n",
    "    audio_data = librosa.resample(audio_data, orig_sr=original_sample_rate, target_sr=4800)\n",
    "    sample_rate = 4800\n",
    "    \n",
    "    \n",
    "    # Computar o início e fim em torno do tempo de PMA em máx de 10 minutos\n",
    "    start_sample = max(0, int((center_time - 5 * 60) * sample_rate))\n",
    "    end_sample = min(len(audio_data), int((center_time + 5 * 60) * sample_rate))\n",
    "\n",
    "    # Verifica se o tempo está completo\n",
    "    if end_sample - start_sample != 10 * 60 * sample_rate:\n",
    "        raise ValueError(\"Verificar argumento center_time - não efetivou intervalo por inteiro\")\n",
    "\n",
    "\n",
    "    audio_data = audio_data[start_sample:end_sample]\n",
    "    # Reshape a matriz para as 600 amostras de 1 segundo cada\n",
    "    chunks = audio_data.reshape(600, sample_rate)\n",
    "\n",
    "    # Computar a densidade espectral de frequência usando o método Welch do SciPy\n",
    "    psd_list = []\n",
    "    for chunk in chunks:\n",
    "        freqs, psd = scipy.signal.welch(chunk, sample_rate, nperseg=480, noverlap=240)\n",
    "        # Seleciona as baixas frequências, de 10Hz a 2000Hz\n",
    "        psd = psd[(freqs >= 10) & (freqs <= 2000)]\n",
    "        psd_list.append(psd)\n",
    "    return np.array(psd_list)"
   ]
  },
  {
   "cell_type": "markdown",
   "id": "1770e408",
   "metadata": {},
   "source": [
    "### Passo 4: constrói os arquivos de bins de frequência com suas classificações (dataset). A classificação no MLP do Scikit-learn usa string, enquanto no MLP do Keras usa um número inteiro, motivo pelo qual ele vai gerar, na construção do dataset, dois arquivos distintos com a biblioteca pickle."
   ]
  },
  {
   "cell_type": "code",
   "execution_count": 4,
   "id": "6634cffe",
   "metadata": {},
   "outputs": [],
   "source": [
    "classes = {}\n",
    "classes = {'Scikit': [\"Navio Pequeno Porte\", \"Navio Pequeno Porte\", \"Navio Pequeno Porte\", \"Navio Pequeno Porte\", \n",
    "                  \"Navio Grande Porte\", \"Navio Grande Porte\",\"Navio Grande Porte\",\"Navio Grande Porte\", \n",
    "                  \"Navio Pequeno Porte\",\"Navio Pequeno Porte\", \"Navio Grande Porte\", \"Navio Grande Porte\", \n",
    "                  \"Navio Pequeno Porte\", \"Navio Pequeno Porte\", \"Navio Pequeno Porte\", \"Navio Grande Porte\", \n",
    "                  \"Navio Pequeno Porte\", \"Navio Grande Porte\",\"Navio Pequeno Porte\"], \n",
    "           'Keras': [1, 1, 1, 1, 0, 0,0,0,1,1,0,0,1,1,1,0,1,0,1]}\n",
    "\n",
    "arquivos_wav = []\n",
    "\n",
    "folderETAS = '../ETAS_WAV/'\n",
    "\n",
    "for i in range(1, 20):\n",
    "    nome_arquivo = folderETAS + str(i) + \".wav\"\n",
    "    arquivos_wav.append(nome_arquivo)"
   ]
  },
  {
   "cell_type": "markdown",
   "id": "38f249d5",
   "metadata": {},
   "source": [
    "### Passo 5: obtém hardcoded os tempos dos PMAs (Ponto de Maior Aproximação) em cada arquivo .wav para aplicar o raciocínio de treinar as redes com os pontos 5 minutos antes e depois do PMA"
   ]
  },
  {
   "cell_type": "code",
   "execution_count": 5,
   "id": "35cba31d",
   "metadata": {},
   "outputs": [],
   "source": [
    "# agora a lista dos tempos de centro em segundos\n",
    "arrayTempos = [1840, 1680, 1710, 1700, 1700, 1840, 1840, 1800, 1800, 1800, 1800, 1800, 1700, 1800, 1860,\n",
    "              1800, 1800, 1800, 1800]"
   ]
  },
  {
   "cell_type": "markdown",
   "id": "fe77e120",
   "metadata": {},
   "source": [
    "### Passo 6: construção dos datasets, tanto pro MLP do Scikit-learn quanto pro Keras"
   ]
  },
  {
   "cell_type": "code",
   "execution_count": 6,
   "id": "d9f79dc0",
   "metadata": {},
   "outputs": [],
   "source": [
    "# Listas de Dataset e label\n",
    "classifiers = ['Scikit','Keras']\n",
    "for classifier in classifiers:\n",
    "    dataset = []\n",
    "    labels = []\n",
    "    contador = 0\n",
    "    # Loop através dos arquivos de áudio\n",
    "    for audio_file_path, audio_class in zip(arquivos_wav, classes[classifier]):\n",
    "        psd = compute_psd(audio_file_path, arrayTempos[contador])\n",
    "        dataset.extend(psd)\n",
    "        labels.extend([audio_class]*600)  # Repete a classificação para as 600 amostras - etiquetagem\n",
    "        contador += 1\n",
    "\n",
    "    # Converte para numpy\n",
    "    dataset = np.array(dataset)\n",
    "    labels = np.array(labels)\n",
    "\n",
    "    # Normaliza dataset com o método Min-Max\n",
    "    scaler = MinMaxScaler()\n",
    "    dataset = scaler.fit_transform(dataset)\n",
    "    salva_objeto(dataset,\"dataset.pickle\")\n",
    "    if classifier == 'Keras':\n",
    "        salva_objeto(labels,\"labels_keras.pickle\")\n",
    "    else:\n",
    "        salva_objeto(labels,\"labels_scikit.pickle\")"
   ]
  },
  {
   "cell_type": "code",
   "execution_count": null,
   "id": "2485d1dc",
   "metadata": {},
   "outputs": [],
   "source": []
  }
 ],
 "metadata": {
  "kernelspec": {
   "display_name": "Python 3 (ipykernel)",
   "language": "python",
   "name": "python3"
  },
  "language_info": {
   "codemirror_mode": {
    "name": "ipython",
    "version": 3
   },
   "file_extension": ".py",
   "mimetype": "text/x-python",
   "name": "python",
   "nbconvert_exporter": "python",
   "pygments_lexer": "ipython3",
   "version": "3.11.4"
  }
 },
 "nbformat": 4,
 "nbformat_minor": 5
}
