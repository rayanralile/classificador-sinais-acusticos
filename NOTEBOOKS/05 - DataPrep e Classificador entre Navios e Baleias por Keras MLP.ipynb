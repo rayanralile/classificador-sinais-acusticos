{
 "cells": [
  {
   "cell_type": "markdown",
   "id": "1664917f",
   "metadata": {},
   "source": [
    "# DataPrep e Classificador entre Navios e Baleias por Keras MLP\n",
    "## Grupo 2 - Trabalho de Conclusão de Curso\n",
    "### - Bruno Uchôa Brandão e Silva - 12412440\n",
    "### - Rayan Luz Ralile - 12412502\n",
    "\n",
    "===============================================================================\n",
    "\n",
    "### Passo 1: carregamento das bibliotecas usadas no programa"
   ]
  },
  {
   "cell_type": "code",
   "execution_count": 1,
   "id": "bbb7e962",
   "metadata": {},
   "outputs": [
    {
     "name": "stderr",
     "output_type": "stream",
     "text": [
      "2023-11-14 13:44:52.178345: I tensorflow/core/platform/cpu_feature_guard.cc:182] This TensorFlow binary is optimized to use available CPU instructions in performance-critical operations.\n",
      "To enable the following instructions: SSE4.1 SSE4.2 AVX AVX2 FMA, in other operations, rebuild TensorFlow with the appropriate compiler flags.\n"
     ]
    }
   ],
   "source": [
    "import numpy as np\n",
    "import scipy.signal\n",
    "import librosa\n",
    "from tensorflow.keras.models import Sequential\n",
    "from tensorflow.keras.layers import Dense\n",
    "from tensorflow.keras.optimizers import Adam\n",
    "from tensorflow import keras\n",
    "from tensorflow.keras.models import load_model\n",
    "from keras.callbacks import Callback\n",
    "import tensorflow as tf\n",
    "import warnings\n",
    "warnings.filterwarnings('ignore')\n",
    "import matplotlib.pyplot as plt\n",
    "import seaborn as sns\n",
    "import pickle\n",
    "from sklearn.model_selection import train_test_split\n",
    "from keras.callbacks import Callback\n",
    "from sklearn.preprocessing import MinMaxScaler\n",
    "import pandas as pd\n",
    "from sklearn.metrics import confusion_matrix, classification_report, accuracy_score\n",
    "import matplotlib.pyplot as plt\n",
    "import seaborn as sns\n",
    "\n",
    "import calendar\n",
    "import time"
   ]
  },
  {
   "cell_type": "markdown",
   "id": "cdb838d9",
   "metadata": {},
   "source": [
    "### Passo 2: construção das funções auxiliares"
   ]
  },
  {
   "cell_type": "code",
   "execution_count": 2,
   "id": "e301d6e9",
   "metadata": {},
   "outputs": [],
   "source": [
    "# Funções de salvar e carregar objetos diversos - otimizar os passos de tratamento do dataset e treino\n",
    "def salva_objeto(obj, file_path = \"data.pickle\"):\n",
    "    with open(file_path, 'wb') as file:\n",
    "        pickle.dump(obj, file)\n",
    "        \n",
    "def carrega_objeto(file_path = \"data.pickle\"):\n",
    "    with open(file_path, 'rb') as file:\n",
    "        obj = pickle.load(file)\n",
    "    return obj"
   ]
  },
  {
   "cell_type": "markdown",
   "id": "5c110b44",
   "metadata": {},
   "source": [
    "### Passo 3: realizar o DataPrep dos áudios, considerando a mesma estratégia de STFT anterior, com bins de frequências. Além disso, áudios de 1 até 10.wav são de navios (etiqueta 0) e de 11.wav até o 20.wav são de baleias (etiqueta 1 - áudios do PMPAS-BS)."
   ]
  },
  {
   "cell_type": "markdown",
   "id": "b7776295",
   "metadata": {},
   "source": [
    "## Importante: devido ao termo assinado para uso dos dados do PMPAS-BS, os arquivos não se encontram no GitHub. Portanto, o código abaixo não vai funcionar."
   ]
  },
  {
   "cell_type": "code",
   "execution_count": 3,
   "id": "f3c93960",
   "metadata": {},
   "outputs": [],
   "source": [
    "if False: # o código abaixo não funciona sem os dados brutos .WAV do PMPAS-BS\n",
    "    \n",
    "    # Lê os arquivos de áudio e processa a técnica PSD\n",
    "    def compute_psd(file_path, center_time):\n",
    "        audio_data, original_sample_rate = librosa.load(file_path, sr=None)\n",
    "        # original_sample_rate -> 48000Hz\n",
    "        # Decima os dados de áudio\n",
    "        audio_data = librosa.resample(audio_data, orig_sr=original_sample_rate, target_sr=4800)\n",
    "        sample_rate = 4800\n",
    "\n",
    "\n",
    "        # Computar o início e fim em torno do tempo de PMA em máx de 10 minutos\n",
    "        start_sample = max(0, int((center_time - 2.5 * 60) * sample_rate))\n",
    "        end_sample = min(len(audio_data), int((center_time + 2.5 * 60) * sample_rate))\n",
    "\n",
    "        # Verifica se o tempo está completo\n",
    "        if end_sample - start_sample != 5 * 60 * sample_rate:\n",
    "            raise ValueError(\"Verificar argumento center_time - não efetivou intervalo por inteiro\")\n",
    "\n",
    "\n",
    "        audio_data = audio_data[start_sample:end_sample]\n",
    "        # Reshape a matriz para as 300 amostras de 1 segundo cada\n",
    "        chunks = audio_data.reshape(300, sample_rate)\n",
    "\n",
    "        # Computar a densidade espectral de frequência usando o método Welch do SciPy\n",
    "        psd_list = []\n",
    "        for chunk in chunks:\n",
    "            freqs, psd = scipy.signal.welch(chunk, sample_rate, nperseg=480, noverlap=240)\n",
    "            # Seleciona as baixas frequências, de 10Hz a 2000Hz\n",
    "            psd = psd[(freqs >= 10) & (freqs <= 2000)]\n",
    "            psd_list.append(psd)\n",
    "        return np.array(psd_list)\n",
    "\n",
    "    classifications = [0, 0, 0, 0, 0, 0, 0, 0, 0, 0, 1, 1, 1, 1, 1, 1, 1, 1, 1, 1]\n",
    "    # 0 - navios\n",
    "    # 1 - baleias\n",
    "\n",
    "    arquivos_wav = []\n",
    "\n",
    "    folderPMPAS_ETAS = '../PMPAS_ETAS_WAV/'\n",
    "\n",
    "    for i in range(1, 20):\n",
    "        nome_arquivo = folderPMPAS_ETAS + str(i) + \".wav\"\n",
    "        arquivos_wav.append(nome_arquivo)\n",
    "\n",
    "    # agora a lista dos tempos de centro em segundos para os navios e fixo para as baleias\n",
    "    arrayTempos = [1840, 1680, 1710, 1700, 1700, 1840, 1840, 1800, 1800, 1800, 150, 150, 150, 150, 150,\n",
    "                  150, 150, 150, 150, 150]\n",
    "\n",
    "\n",
    "    dataset = []\n",
    "    labels = []\n",
    "    contador = 0\n",
    "    # Loop através dos arquivos de áudio\n",
    "    for audio_file_path, audio_class in zip(arquivos_wav, classifications):\n",
    "        psd = compute_psd(audio_file_path, arrayTempos[contador])\n",
    "        dataset.extend(psd)\n",
    "        labels.extend([audio_class]*300)  # Repete a classificação para as 300 amostras - etiquetagem\n",
    "        contador += 1\n",
    "\n",
    "    # Converte para numpy\n",
    "    dataset = np.array(dataset)\n",
    "    labels = np.array(labels)\n",
    "\n",
    "    # Normaliza dataset com o método Min-Max\n",
    "    scaler = MinMaxScaler()\n",
    "    dataset = scaler.fit_transform(dataset)\n",
    "\n",
    "    # Salva o dataset e as labels\n",
    "    salva_objeto(dataset,\"dataset_baleias_navios.pickle\")\n",
    "    salva_objeto(labels,\"labels_baleias_navios.pickle\")"
   ]
  },
  {
   "cell_type": "markdown",
   "id": "fb1c95fe",
   "metadata": {},
   "source": [
    "### Entretanto, o arquivo oriundo desse tratamento dos dados dentro dos áudios não está restrito, portanto, o código abaixo vai funcionar e permitir treinar a rede separadora de sinais navios-baleias:"
   ]
  },
  {
   "cell_type": "code",
   "execution_count": 4,
   "id": "393e3793",
   "metadata": {},
   "outputs": [],
   "source": [
    "dataset = carrega_objeto(\"dataset_baleias_navios.pickle\")\n",
    "labels = carrega_objeto(\"labels_baleias_navios.pickle\")"
   ]
  },
  {
   "cell_type": "markdown",
   "id": "28e07256",
   "metadata": {},
   "source": [
    "### Passo 4: fazer a divisão do dataset em treino e teste:"
   ]
  },
  {
   "cell_type": "code",
   "execution_count": 5,
   "id": "b979996c",
   "metadata": {},
   "outputs": [],
   "source": [
    "data = dataset\n",
    "\n",
    "\n",
    "X = data\n",
    "y = labels\n",
    "\n",
    "# Divisão entre teste e treino\n",
    "X_train, X_test, y_train, y_test = train_test_split(X, y, test_size=0.20, random_state=42)"
   ]
  },
  {
   "cell_type": "markdown",
   "id": "fcfd5786",
   "metadata": {},
   "source": [
    "### Passo 5: treinar e verificar desempenho básico incluindo matriz confusão do seletor 'navios-baleias':"
   ]
  },
  {
   "cell_type": "code",
   "execution_count": 6,
   "id": "7b28219a",
   "metadata": {},
   "outputs": [
    {
     "name": "stderr",
     "output_type": "stream",
     "text": [
      "2023-11-14 13:45:16.137116: I tensorflow/core/common_runtime/process_util.cc:146] Creating new thread pool with default inter op setting: 2. Tune using inter_op_parallelism_threads for best performance.\n"
     ]
    }
   ],
   "source": [
    "# Prepara label para ser entendido na rede neural sem prejudicar os pesos\n",
    "labels = labels.astype(int)\n",
    "labels = np.eye(2)[labels] \n",
    "\n",
    "# divide os dados entre treino e teste\n",
    "X_train, X_test, y_train, y_test = train_test_split(data, labels, test_size=0.2, random_state=42)\n",
    "# cria o modelo com 800 neurônios na camada oculta, conectados a 200 na entrada e 2 na saída\n",
    "model = Sequential([\n",
    "    Dense(800, activation='relu', input_shape=(200,)),\n",
    "    Dense(2, activation='softmax')\n",
    "])\n",
    "\n",
    "# Configura o learning_rate do otimizador ADAM\n",
    "optimizer = Adam(learning_rate=0.01)\n",
    "#optimizer = Adam(learning_rate=0.00000001) # 1E-8\n",
    "\n",
    "# compila configurações (bala na agulha)\n",
    "# Compila o modelo, definindo o otimizador, a função de perda e a métrica de desempenho\n",
    "model.compile(\n",
    "    optimizer='adam',\n",
    "    loss='binary_crossentropy',\n",
    "    metrics=['accuracy']\n",
    ")\n",
    "history = model.fit(X_train, y_train, validation_data=(X_test, y_test), epochs=10, batch_size=32, verbose=0)\n"
   ]
  },
  {
   "cell_type": "markdown",
   "id": "cd23c13d",
   "metadata": {},
   "source": [
    "### Passo 6: salvar a rede treinada"
   ]
  },
  {
   "cell_type": "code",
   "execution_count": 7,
   "id": "51e53190",
   "metadata": {},
   "outputs": [],
   "source": [
    "model.save('modelBaleiasNavios2.h5')"
   ]
  },
  {
   "cell_type": "markdown",
   "id": "d26b4fb6",
   "metadata": {},
   "source": [
    "### Passo 7: matriz confusão do seletor navios e baleias"
   ]
  },
  {
   "cell_type": "code",
   "execution_count": 8,
   "id": "eb6274d0",
   "metadata": {},
   "outputs": [
    {
     "name": "stdout",
     "output_type": "stream",
     "text": [
      "36/36 [==============================] - 0s 4ms/step\n"
     ]
    },
    {
     "data": {
      "image/png": "[encoded data removed]",
      "text/plain": [
       "<Figure size 1000x700 with 2 Axes>"
      ]
     },
     "metadata": {},
     "output_type": "display_data"
    }
   ],
   "source": [
    "# Define os nomes de classes para substituir pelos números - caminho reverso\n",
    "class_names = ['Navios', 'Baleias']\n",
    "\n",
    "# Uso do modelo para preditar sobre a base de testes\n",
    "predictions = model.predict(X_test)\n",
    "\n",
    "# Pega os pontos maiores de cada classificação para definir a classe\n",
    "predicted_labels = np.argmax(predictions, axis=1)\n",
    "\n",
    "# Idem para os labels verdadeiros - reais\n",
    "true_labels = np.argmax(y_test, axis=1)\n",
    "\n",
    "# Realiza a matriz de confusão\n",
    "cm = confusion_matrix(true_labels, predicted_labels)\n",
    "\n",
    "# Cria o mapa de calor da matriz de confusão\n",
    "plt.figure(figsize=(10, 7))\n",
    "sns.heatmap(cm, annot=True, fmt='d', cmap='Oranges', xticklabels=class_names, yticklabels=class_names)\n",
    "plt.xlabel('Previstos')\n",
    "plt.ylabel('Real')\n",
    "plt.title('MLP com Keras - matriz de confusão')\n",
    "plt.show()"
   ]
  },
  {
   "cell_type": "code",
   "execution_count": null,
   "id": "1bce60a6",
   "metadata": {},
   "outputs": [],
   "source": []
  }
 ],
 "metadata": {
  "kernelspec": {
   "display_name": "Python 3 (ipykernel)",
   "language": "python",
   "name": "python3"
  },
  "language_info": {
   "codemirror_mode": {
    "name": "ipython",
    "version": 3
   },
   "file_extension": ".py",
   "mimetype": "text/x-python",
   "name": "python",
   "nbconvert_exporter": "python",
   "pygments_lexer": "ipython3",
   "version": "3.7.16"
  }
 },
 "nbformat": 4,
 "nbformat_minor": 5
}
